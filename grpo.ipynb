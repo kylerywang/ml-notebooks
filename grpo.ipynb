# GRPO (Group Relative Policy Optimization) for Code Generation

## From Math Models to Code Masters

This notebook implements GRPO to transform a base model (Qwen2.5-Math) into a proficient code generator. GRPO was the key technique behind DeepSeek-R1's remarkable reasoning capabilities.

### What is GRPO?

**Group Relative Policy Optimization (GRPO)** is a reinforcement learning algorithm that improves upon PPO by:
1. **Eliminating the value function** - saving memory by not needing a separate critic network
2. **Using group-based advantages** - generating multiple responses per prompt and comparing them
3. **Relative scoring** - using the mean reward of the group as baseline

This makes GRPO particularly suitable for training large language models on limited hardware (like T4 GPUs on Colab).